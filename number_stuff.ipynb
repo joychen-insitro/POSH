{
 "cells": [
  {
   "cell_type": "markdown",
   "metadata": {},
   "source": [
    "## Neglect this part. Set up variable and env"
   ]
  },
  {
   "cell_type": "code",
   "execution_count": 1,
   "metadata": {},
   "outputs": [],
   "source": [
    "import sys\n",
    "sys.path.append('/Users/joy.chen/insitroRepos/posh_internal/common_utils') ## Adding path to common utils\n",
    "sys.path.append('/Users/joy.chen/insitroRepos/posh_internal/core')\n",
    "\n",
    "\n",
    "%load_ext autoreload\n",
    "%autoreload 2"
   ]
  },
  {
   "cell_type": "code",
   "execution_count": 2,
   "metadata": {},
   "outputs": [],
   "source": [
    "import database_utils as db_utils\n",
    "import image_utils as img_utils\n",
    "\n",
    "from skimage import exposure,filters,measure,segmentation"
   ]
  },
  {
   "cell_type": "code",
   "execution_count": 4,
   "metadata": {},
   "outputs": [
    {
     "data": {
      "text/plain": [
       "'s3://insitro-microscopy-data/prod/pyxcell/PA16998'"
      ]
     },
     "execution_count": 4,
     "metadata": {},
     "output_type": "execute_result"
    }
   ],
   "source": [
    "import os\n",
    "import numpy as np\n",
    "import pandas as pd\n",
    "import seaborn as sns\n",
    "import matplotlib.pyplot as plt\n",
    "import seaborn as sns\n",
    "from tqdm.notebook import tqdm\n",
    "\n",
    "plate_id = \"PA16998\"\n",
    "output_bucket = 's3://insitro-microscopy-data/prod/pyxcell'\n",
    "output_dir = os.path.join(output_bucket,plate_id)\n",
    "output_dir"
   ]
  },
  {
   "cell_type": "code",
   "execution_count": 6,
   "metadata": {},
   "outputs": [],
   "source": [
    "ordered_measurement_corrected = ['8c000250-41ab-4a3a-a486-6e5e4958108b',\n",
    " 'ed70a5a8-d57c-4bad-a7e5-48f9ac0eeb9b',\n",
    " 'e3efea0b-b0b6-4b97-94e6-b0fa1b1cf810',\n",
    " '58ef1bd6-22e3-46aa-890b-2ab86e06ecd6',\n",
    " '34d43556-7135-45ee-b2f7-f54c3e1774d3',\n",
    " 'b04300f5-9804-423b-a6ad-a614820f5309',\n",
    " 'dbc4abba-bfb5-4598-b822-0ad4f568c612',\n",
    " 'd3ed20b3-5990-4d01-902d-eee87cc47676',\n",
    " '5ce71785-2895-468f-a49e-14a61a21fa0b',\n",
    " '0163135a-0f15-4893-b8b3-20d5b99b1cea',\n",
    " '1390bf25-01c6-4a8b-86e5-112f03488123',\n",
    " '7fbffcc0-ac76-483d-8c95-b16c0d71119a',\n",
    " 'a803cd01-b3a4-445f-b97a-2f1a25023300',\n",
    " 'd91ff1b3-0aeb-4588-9a0c-69b16cb4017d',\n",
    " 'fac86e82-542e-4687-82b8-9902b735e3b8',\n",
    " 'aa9a1fcd-1fac-4a64-80d5-56c7fd5ae79c',\n",
    " '6924fca1-51ea-41d3-9750-935a58bafcdf']"
   ]
  },
  {
   "cell_type": "markdown",
   "metadata": {},
   "source": [
    "## ---------------- Read from here ----------------------  "
   ]
  },
  {
   "cell_type": "code",
   "execution_count": 15,
   "metadata": {},
   "outputs": [],
   "source": [
    "# get \"indexed_cells\" df\n",
    "path = os.path.join(os.path.join(os.path.join(output_dir,'annotated_coordinates/'),ordered_measurement_corrected[0]),\n",
    "                    'indexed_cell_coordinates/coordinates.pq')\n",
    "indexed_cells = db_utils.load_df(path)"
   ]
  },
  {
   "cell_type": "code",
   "execution_count": 12,
   "metadata": {},
   "outputs": [
    {
     "name": "stdout",
     "output_type": "stream",
     "text": [
      "Number of cells from raw data: 2088484\n",
      "Number of unique barcode from raw data: 8580073\n"
     ]
    }
   ],
   "source": [
    "# get \"posh_barcodes_uncorrected\" from import df\n",
    "path = os.path.join(os.path.join(os.path.join(output_dir,'assign_barcodes_to_cells/nearest_label/'),ordered_measurement_corrected[0]),\n",
    "                    'posh_barcodes_assigned_to_nuclei_v2_fcn.pq')\n",
    "posh_barcodes_uncorrected = db_utils.load_df(path)\n",
    "\n",
    "print(\"Number of cells from raw data:\", posh_barcodes_uncorrected[\"cell_id\"].nunique())\n",
    "print(\"Number of unique barcode from raw data:\", posh_barcodes_uncorrected[\"barcode\"].nunique())"
   ]
  },
  {
   "cell_type": "code",
   "execution_count": 14,
   "metadata": {},
   "outputs": [
    {
     "name": "stdout",
     "output_type": "stream",
     "text": [
      "Number of cells from this step: 2088484\n",
      "Number of unique barcode from this step: 8580073\n"
     ]
    }
   ],
   "source": [
    "#drop duplicate barcode in a cell\n",
    "all_cells_with_unique_uncorrected_barcode = posh_barcodes_uncorrected.drop_duplicates(['cell_id','barcode'])\n",
    "\n",
    "print(\"Number of cells from this step:\", all_cells_with_unique_uncorrected_barcode[\"cell_id\"].nunique())\n",
    "print(\"Number of unique barcode from this step:\", all_cells_with_unique_uncorrected_barcode[\"barcode\"].nunique())"
   ]
  },
  {
   "cell_type": "markdown",
   "metadata": {},
   "source": [
    "Removing cells that have been assigned a barcode but not tiled."
   ]
  },
  {
   "cell_type": "code",
   "execution_count": 17,
   "metadata": {},
   "outputs": [
    {
     "name": "stdout",
     "output_type": "stream",
     "text": [
      "Fraction of sequenced cells not indexed : 0.06627821903351905\n",
      "Number of unique cells which are barcoded but not indexed: 138421\n",
      "Number of unique barcodes from cells which are barcoded but not indexed: 514979\n",
      "Number of unique cells after removing the cells that are barcodedbut not indexed: 1950063\n",
      "Number of unique barcodes after removing the cells that are barcodedbut not indexed: 8213310\n"
     ]
    }
   ],
   "source": [
    "cells_ids_iss = set(all_cells_with_unique_uncorrected_barcode['cell_id']) \n",
    "indexed_cell_ids = set(indexed_cells['ID']) \n",
    "\n",
    "difference_between_indexed_and_barcoded_cells = cells_ids_iss.difference(indexed_cell_ids) \n",
    "cell_ids_iss_not_indexed = all_cells_with_unique_uncorrected_barcode[all_cells_with_unique_uncorrected_barcode['cell_id'].isin(list(difference_between_indexed_and_barcoded_cells))]\n",
    "#df shows the cells are barcoded but not indexed. But should be noted that this df includes duplicate cells\n",
    "\n",
    "\n",
    "print('Fraction of sequenced cells not indexed :', cell_ids_iss_not_indexed[\"cell_id\"].nunique()/len(cells_ids_iss))\n",
    "\n",
    "\n",
    "#Removing cells that have been assigned a barcode but not tiled\n",
    "all_cells_with_unique_uncorrected_barcode_remove_non_index_cell =  all_cells_with_unique_uncorrected_barcode[~all_cells_with_unique_uncorrected_barcode['cell_id'].isin(list(difference_between_indexed_and_barcoded_cells))]\n",
    "\n",
    "print(\"Number of unique cells which are barcoded but not indexed:\", cell_ids_iss_not_indexed[\"cell_id\"].nunique())\n",
    "print(\"Number of unique barcodes from cells which are barcoded but not indexed:\", cell_ids_iss_not_indexed[\"barcode\"].nunique())\n",
    "\n",
    "print(\"Number of unique cells after removing the cells that are barcodedbut not indexed:\", all_cells_with_unique_uncorrected_barcode_remove_non_index_cell[\"cell_id\"].nunique())\n",
    "print(\"Number of unique barcodes after removing the cells that are barcodedbut not indexed:\",all_cells_with_unique_uncorrected_barcode_remove_non_index_cell[\"barcode\"].nunique())\n",
    "\n"
   ]
  },
  {
   "cell_type": "code",
   "execution_count": null,
   "metadata": {},
   "outputs": [],
   "source": []
  }
 ],
 "metadata": {
  "kernelspec": {
   "display_name": "insitro",
   "language": "python",
   "name": "python3"
  },
  "language_info": {
   "codemirror_mode": {
    "name": "ipython",
    "version": 3
   },
   "file_extension": ".py",
   "mimetype": "text/x-python",
   "name": "python",
   "nbconvert_exporter": "python",
   "pygments_lexer": "ipython3",
   "version": "3.9.15"
  },
  "orig_nbformat": 4
 },
 "nbformat": 4,
 "nbformat_minor": 2
}
